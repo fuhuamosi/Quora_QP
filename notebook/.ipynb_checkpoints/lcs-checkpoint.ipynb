{
 "cells": [
  {
   "cell_type": "code",
   "execution_count": 1,
   "metadata": {
    "collapsed": true
   },
   "outputs": [],
   "source": [
    "import os\n",
    "import sys\n",
    "sys.path.append(os.path.join('..', '..', 'Quora_QP'))"
   ]
  },
  {
   "cell_type": "code",
   "execution_count": 2,
   "metadata": {
    "collapsed": true
   },
   "outputs": [],
   "source": [
    "from preprocess.data_helpers import deserialize"
   ]
  },
  {
   "cell_type": "code",
   "execution_count": 3,
   "metadata": {
    "collapsed": true
   },
   "outputs": [],
   "source": [
    "from preprocess.lcs_match import get_lcs_ratio"
   ]
  },
  {
   "cell_type": "code",
   "execution_count": 4,
   "metadata": {
    "collapsed": false
   },
   "outputs": [
    {
     "name": "stdout",
     "output_type": "stream",
     "text": [
      "loading 2 lines from ../dataset/train.bin\n"
     ]
    }
   ],
   "source": [
    "data_dir = os.path.join('..', 'dataset')\n",
    "train_x, train_y = deserialize(os.path.join(data_dir, 'train.bin'))"
   ]
  },
  {
   "cell_type": "code",
   "execution_count": 5,
   "metadata": {
    "collapsed": true
   },
   "outputs": [],
   "source": [
    "index = 0"
   ]
  },
  {
   "cell_type": "code",
   "execution_count": 6,
   "metadata": {
    "collapsed": false
   },
   "outputs": [
    {
     "data": {
      "text/plain": [
       "[['why', 'is', 'saltwater', 'taffy', 'candy', 'imported', 'in', 'poland', '?'],\n",
       " ['why', 'is', 'saltwater', 'taffy', 'candy', 'imported', 'in', 'brazil', '?']]"
      ]
     },
     "execution_count": 6,
     "metadata": {},
     "output_type": "execute_result"
    }
   ],
   "source": [
    "train_x[index]"
   ]
  },
  {
   "cell_type": "code",
   "execution_count": 7,
   "metadata": {
    "collapsed": false
   },
   "outputs": [
    {
     "data": {
      "text/plain": [
       "1"
      ]
     },
     "execution_count": 7,
     "metadata": {},
     "output_type": "execute_result"
    }
   ],
   "source": [
    "train_y[index]"
   ]
  },
  {
   "cell_type": "code",
   "execution_count": 8,
   "metadata": {
    "collapsed": false
   },
   "outputs": [
    {
     "data": {
      "text/plain": [
       "0.8888888888888888"
      ]
     },
     "execution_count": 8,
     "metadata": {},
     "output_type": "execute_result"
    }
   ],
   "source": [
    "get_lcs_ratio(*train_x[index])"
   ]
  },
  {
   "cell_type": "code",
   "execution_count": 9,
   "metadata": {
    "collapsed": false
   },
   "outputs": [
    {
     "name": "stdout",
     "output_type": "stream",
     "text": [
      "loop 100\n",
      "what is the process to determine the density of aluminum and how does copper compare ?\n",
      "what is the process to determine the density of aluminum and how does platinum compare ?\n",
      "y: 0\n",
      "ratio: 0.9375\n",
      "score: 0.28125000000000006\n",
      "\n",
      "loop 101\n",
      "what are some examples of hindi urdu sayings phrases proverbs which have no parallel in english ?\n",
      "is it thanks to everyone or everybody ?\n",
      "y: 0\n",
      "ratio: 0.08\n",
      "score: 0.024000000000000004\n",
      "\n",
      "loop 102\n",
      "for purdue university , should i do computer science or cybersecurity if i plan on doing cybersecurity after college ?\n",
      "where can we find about donny osmond net worth ?\n",
      "y: 0\n",
      "ratio: 0.06666666666666667\n",
      "score: 0.020000000000000004\n",
      "\n",
      "loop 103\n",
      "what 's the worst thing you have done at work ?\n",
      "what are the worst things you have done at work ?\n",
      "y: 1\n",
      "ratio: 0.8181818181818182\n",
      "score: 0.9454545454545454\n",
      "\n",
      "loop 104\n",
      "will there be a war between the united states and russia in 2016 ?\n",
      "russia is apparently preparing for war with the united states is this very likely in the immediate future ?\n",
      "y: 1\n",
      "ratio: 0.36363636363636365\n",
      "score: 0.8090909090909091\n",
      "\n",
      "loop 105\n",
      "how can a lay person be updated on the latest medical news ?\n",
      "will the first lady continue to fight against obesity ?\n",
      "y: 0\n",
      "ratio: 0.17391304347826086\n",
      "score: 0.052173913043478265\n",
      "\n",
      "loop 106\n",
      "how will donald trump benefit india ?\n",
      "what will be the effects of donald trump being the us president on india ?\n",
      "y: 1\n",
      "ratio: 0.45454545454545453\n",
      "score: 0.8363636363636363\n",
      "\n",
      "loop 107\n",
      "why do people say bless you whenever someone sneezes ?\n",
      "what is the origin of saying bless you when someone sneezes ?\n",
      "y: 1\n",
      "ratio: 0.45454545454545453\n",
      "score: 0.8363636363636363\n",
      "\n",
      "loop 108\n",
      "how can i leave indian navy ?\n",
      "how do i prepare for indian navy ?\n",
      "y: 0\n",
      "ratio: 0.6666666666666666\n",
      "score: 0.2\n",
      "\n",
      "loop 109\n",
      "i m not sure which stream to choose after 10th class , is there any scientific method available to choose the right career stream ?\n",
      "what is the best oil for deep frying chicken ? how is it done ?\n",
      "y: 0\n",
      "ratio: 0.15\n",
      "score: 0.045000000000000005\n",
      "\n",
      "loop 110\n",
      "what are some of the best ways to break out my comfort zone ?\n",
      "should i step out of my comfort zone ? what 's the point of stepping out of comfort zone ?\n",
      "y: 1\n",
      "ratio: 0.35294117647058826\n",
      "score: 0.8058823529411765\n",
      "\n",
      "loop 111\n",
      "can drinking milk at night harm teeth even if we brush after that ?\n",
      "is it common practice in japan to brush your teeth at work after lunch ?\n",
      "y: 0\n",
      "ratio: 0.20689655172413793\n",
      "score: 0.062068965517241385\n",
      "\n",
      "loop 112\n",
      "what 's the ideal job for a javascript developer ?\n",
      "i have 4 years of experience as a java developer and due to some reasons i have changed jobs 3 times what is an ideal career path for the future ?\n",
      "y: 0\n",
      "ratio: 0.1951219512195122\n",
      "score: 0.05853658536585367\n",
      "\n",
      "loop 113\n",
      "how did you become smart person ?\n",
      "how do i become an all around smart person ?\n",
      "y: 1\n",
      "ratio: 0.5882352941176471\n",
      "score: 0.8764705882352941\n",
      "\n",
      "loop 114\n",
      "what is the meaning of pqwl , rlwl , gnwl , rlgn , rswl , ckwl , in a railway waiting list ?\n",
      "why is the book now link not showing ?\n",
      "y: 0\n",
      "ratio: 0.1875\n",
      "score: 0.05625000000000001\n",
      "\n",
      "loop 115\n",
      "who is in england 's squad for the 2015 cricket world cup ?\n",
      "who is in pakistan 's squad for the 2015 cricket world cup ?\n",
      "y: 0\n",
      "ratio: 0.9230769230769231\n",
      "score: 0.276923076923077\n",
      "\n",
      "loop 116\n",
      "what action can the supreme court take against a democratically elected state government in india in case of disobedience of its orders ?\n",
      "how do i fight a case in the supreme court of india ?\n",
      "y: 0\n",
      "ratio: 0.2777777777777778\n",
      "score: 0.08333333333333334\n",
      "\n",
      "loop 117\n",
      "how can i buy alcohol in the uk if i'm visiting as a tourist ? do they ask for any id like passport or something ?\n",
      "if i live in the eastern usa , and want to open up a diamond gem jewelry shop who is the best diamond broker i can go to in new jersey ?\n",
      "y: 0\n",
      "ratio: 0.1724137931034483\n",
      "score: 0.051724137931034496\n",
      "\n",
      "loop 118\n",
      "do you know about input vector controlled method of leakage reduction ?\n",
      "i need some latin experts !\n",
      "y: 0\n",
      "ratio: 0.0\n",
      "score: 0.0\n",
      "\n",
      "loop 119\n",
      "what is line voltage and phase voltage ?\n",
      "what is the exact meaning of phase voltage and line voltage ?\n",
      "y: 1\n",
      "ratio: 0.6\n",
      "score: 0.88\n",
      "\n",
      "loop 120\n",
      "what is the name for a system where voters cast ballots for candidates and from that pile a ballot is chosen at random to decide who is elected ?\n",
      "i bought real estate ( raw land ) via ebay via bank transfer and have received nothing , what can i do ?\n",
      "y: 0\n",
      "ratio: 0.07692307692307693\n",
      "score: 0.02307692307692308\n",
      "\n",
      "loop 121\n",
      "does christ university student complains of sexual harassment on campus ?\n",
      "is the bannerghatta campus of christ university too far from the city ?\n",
      "y: 0\n",
      "ratio: 0.25\n",
      "score: 0.07500000000000001\n",
      "\n",
      "loop 122\n",
      "how can i add photos or video on quora when i want to answer ?\n",
      "how do i add a photo to a quora answer ?\n",
      "y: 1\n",
      "ratio: 0.46153846153846156\n",
      "score: 0.8384615384615385\n",
      "\n",
      "loop 123\n",
      "what are two chemical tests which distinguish ethane from ethyne ?\n",
      "how can you distinguish pure substances from mixtures ?\n",
      "y: 0\n",
      "ratio: 0.3\n",
      "score: 0.09000000000000001\n",
      "\n",
      "loop 124\n",
      "what is it like to get married to a university professor ?\n",
      "sleep what do professors think of students who fall asleep in class ?\n",
      "y: 0\n",
      "ratio: 0.16\n",
      "score: 0.04800000000000001\n",
      "\n",
      "loop 125\n",
      "how often are one piece manga volumes released ?\n",
      "what are some story arcs of the one piece manga ?\n",
      "y: 0\n",
      "ratio: 0.5\n",
      "score: 0.15000000000000002\n",
      "\n",
      "loop 126\n",
      "what are some of the most upvoted answers you came across on quora ?\n",
      "what is the most viewed and most up voted answer on quora ?\n",
      "y: 1\n",
      "ratio: 0.4444444444444444\n",
      "score: 0.8333333333333333\n",
      "\n",
      "loop 127\n",
      "anorexia nervosa do anorexics suffer long term effects in their brain development ?\n",
      "do antidepressants like mirtazapine have long term negative effects on the brain ?\n",
      "y: 0\n",
      "ratio: 0.46153846153846156\n",
      "score: 0.1384615384615385\n",
      "\n",
      "loop 128\n",
      "what should i do to become a movie critic ?\n",
      "how can an individual become an online film critic ?\n",
      "y: 1\n",
      "ratio: 0.3\n",
      "score: 0.7899999999999999\n",
      "\n",
      "loop 129\n",
      "why did quora switch fonts ?\n",
      "why did quora change its font ?\n",
      "y: 1\n",
      "ratio: 0.6153846153846154\n",
      "score: 0.8846153846153846\n",
      "\n",
      "loop 130\n",
      "what is the reason behind donald trump 's win , if people hate him then how come he got so many votes ?\n",
      "if so many people hate donald trump , and so many protest against him , how did he manage to win the elections inspite of all this ?\n",
      "y: 1\n",
      "ratio: 0.27450980392156865\n",
      "score: 0.7823529411764706\n",
      "\n",
      "loop 131\n",
      "what were the major effects of the cambodia earthquake , and how do these effects compare to the rat islands earthquake in 1965 ?\n",
      "what were the major effects of the cambodia earthquake , and how do these effects compare to the sohei earthquake in 1361 ?\n",
      "y: 1\n",
      "ratio: 0.8936170212765957\n",
      "score: 0.9680851063829787\n",
      "\n",
      "loop 132\n",
      "do patanjali products actually work ?\n",
      "does any of the patanjali product really work ?\n",
      "y: 1\n",
      "ratio: 0.4\n",
      "score: 0.82\n",
      "\n",
      "loop 133\n",
      "how many spines in the human body ?\n",
      "how many bones are in the human body ?\n",
      "y: 0\n",
      "ratio: 0.8235294117647058\n",
      "score: 0.2470588235294118\n",
      "\n",
      "loop 134\n",
      "what is the best way to become a good programmer what are some good ways to learn programming from the scratch ?\n",
      "what are some good websites to learn programming from scratch ?\n",
      "y: 1\n",
      "ratio: 0.6060606060606061\n",
      "score: 0.8818181818181818\n",
      "\n",
      "loop 135\n",
      "robert frost was the moon landing a hoax ?\n",
      "prouve me the moon landing is true\n",
      "y: 1\n",
      "ratio: 0.375\n",
      "score: 0.8125\n",
      "\n",
      "loop 136\n",
      "can we apply onion juice mix with coconut oil on bald area ?\n",
      "with the help of onion juice , how long will it take for the balding patch on my head to regrow ?\n",
      "y: 0\n",
      "ratio: 0.22857142857142856\n",
      "score: 0.06857142857142857\n",
      "\n",
      "loop 137\n",
      "what are the pros and cons of eating avocados ?\n",
      "what are the pros and cons of eating grapefruit ?\n",
      "y: 0\n",
      "ratio: 0.9\n",
      "score: 0.2700000000000001\n",
      "\n",
      "loop 138\n",
      "who is this actress ? or what was the movie ?\n",
      "who is this actress ?\n",
      "y: 0\n",
      "ratio: 0.625\n",
      "score: 0.18750000000000003\n",
      "\n",
      "loop 139\n",
      "how will india be affected now that 500 and 1000 rupee notes have been banned ?\n",
      "what will be the effects of demonetisation of 500 and 1000 notes on the indian economy ?\n",
      "y: 1\n",
      "ratio: 0.42424242424242425\n",
      "score: 0.8272727272727273\n",
      "\n",
      "loop 140\n",
      "how tall is the empire state building in new york city ?\n",
      "how tall is the empire state building ?\n",
      "y: 1\n",
      "ratio: 0.8\n",
      "score: 0.94\n",
      "\n",
      "loop 141\n",
      "how hard is it to learn to play the violin ?\n",
      "how can i play a violin ?\n",
      "y: 0\n",
      "ratio: 0.4444444444444444\n",
      "score: 0.13333333333333336\n",
      "\n",
      "loop 142\n",
      "which is the best camera smartphone under 20k ?\n",
      "which is the best camera smartphone under 25k ?\n",
      "y: 0\n",
      "ratio: 0.8888888888888888\n",
      "score: 0.2666666666666667\n",
      "\n",
      "loop 143\n",
      "if i want to be prepared for the gate 2018 , how can i plan that ?\n",
      "i want to prepare for upsc i have got 6 months free and then a year of engg college how do i go about it if i plan to give the exam in 2018 ?\n",
      "y: 0\n",
      "ratio: 0.3076923076923077\n",
      "score: 0.09230769230769233\n",
      "\n",
      "loop 144\n",
      "what are the best jobs a civil engineer can get in india ?\n",
      "what is the best job for a civil engineer in india ?\n",
      "y: 1\n",
      "ratio: 0.72\n",
      "score: 0.9159999999999999\n",
      "\n",
      "loop 145\n",
      "instagram is using too much hashtags vulgar ?\n",
      "how can you look at someone 's private instagram account without following them ?\n",
      "y: 0\n",
      "ratio: 0.18181818181818182\n",
      "score: 0.05454545454545456\n",
      "\n",
      "loop 146\n",
      "how can i link my google account for my clash of clan to my iphone ?\n",
      "i have to change my clash of clans account in my iphone how do i do it ?\n",
      "y: 0\n",
      "ratio: 0.4117647058823529\n",
      "score: 0.1235294117647059\n",
      "\n",
      "loop 147\n",
      "what is macromolecule and what are some examples ?\n",
      "what are organic macromolecules and what are some examples ?\n",
      "y: 0\n",
      "ratio: 0.7368421052631579\n",
      "score: 0.2210526315789474\n",
      "\n",
      "loop 148\n",
      "what part of speech is was ?\n",
      "what part of speech is tell ?\n",
      "y: 0\n",
      "ratio: 0.8571428571428571\n",
      "score: 0.2571428571428572\n",
      "\n",
      "loop 149\n",
      "what is base reality ?\n",
      "what is the file format for 360 vr pictures ?\n",
      "y: 0\n",
      "ratio: 0.4\n",
      "score: 0.12000000000000002\n",
      "\n"
     ]
    }
   ],
   "source": [
    "alpha = 0.7\n",
    "for index in range(100, 150):\n",
    "    print('loop {}'.format(index))\n",
    "    print(' '.join(train_x[index][0]))\n",
    "    print(' '.join(train_x[index][1]))\n",
    "    print('y: {}'.format(train_y[index]))\n",
    "    lcs_ratio = get_lcs_ratio(*train_x[index])\n",
    "    print('ratio: {}'.format(lcs_ratio))\n",
    "    print('score: {}'.format(alpha * train_y[index] + (1 - alpha) * lcs_ratio))\n",
    "    print('')"
   ]
  },
  {
   "cell_type": "code",
   "execution_count": 10,
   "metadata": {
    "collapsed": false
   },
   "outputs": [
    {
     "data": {
      "text/plain": [
       "list"
      ]
     },
     "execution_count": 10,
     "metadata": {},
     "output_type": "execute_result"
    }
   ],
   "source": [
    "type(train_y)"
   ]
  },
  {
   "cell_type": "code",
   "execution_count": 11,
   "metadata": {
    "collapsed": true
   },
   "outputs": [],
   "source": [
    "from sklearn.feature_extraction.text import TfidfVectorizer"
   ]
  },
  {
   "cell_type": "code",
   "execution_count": 12,
   "metadata": {
    "collapsed": true
   },
   "outputs": [],
   "source": [
    "from itertools import chain"
   ]
  },
  {
   "cell_type": "code",
   "execution_count": 13,
   "metadata": {
    "collapsed": true
   },
   "outputs": [],
   "source": [
    "train_qs = list(chain.from_iterable(train_x))"
   ]
  },
  {
   "cell_type": "code",
   "execution_count": 14,
   "metadata": {
    "collapsed": true
   },
   "outputs": [],
   "source": [
    "train_qs = [' '.join(q) for q in train_qs]"
   ]
  },
  {
   "cell_type": "code",
   "execution_count": 15,
   "metadata": {
    "collapsed": true
   },
   "outputs": [],
   "source": [
    "vectorizer = TfidfVectorizer()"
   ]
  },
  {
   "cell_type": "code",
   "execution_count": 16,
   "metadata": {
    "collapsed": false
   },
   "outputs": [],
   "source": [
    "vector_qs = vectorizer.fit_transform(train_qs)"
   ]
  },
  {
   "cell_type": "code",
   "execution_count": 17,
   "metadata": {
    "collapsed": false
   },
   "outputs": [
    {
     "data": {
      "text/plain": [
       "scipy.sparse.csr.csr_matrix"
      ]
     },
     "execution_count": 17,
     "metadata": {},
     "output_type": "execute_result"
    }
   ],
   "source": [
    "type(vector_qs)"
   ]
  },
  {
   "cell_type": "code",
   "execution_count": 18,
   "metadata": {
    "collapsed": false
   },
   "outputs": [
    {
     "data": {
      "text/plain": [
       "<727722x81436 sparse matrix of type '<class 'numpy.float64'>'\n",
       "\twith 7301835 stored elements in Compressed Sparse Row format>"
      ]
     },
     "execution_count": 18,
     "metadata": {},
     "output_type": "execute_result"
    }
   ],
   "source": [
    "vector_qs"
   ]
  },
  {
   "cell_type": "code",
   "execution_count": 19,
   "metadata": {
    "collapsed": false
   },
   "outputs": [
    {
     "data": {
      "text/plain": [
       "[['how',\n",
       "  'does',\n",
       "  'a',\n",
       "  'narcissist',\n",
       "  'feel',\n",
       "  'when',\n",
       "  'rejected',\n",
       "  'by',\n",
       "  'a',\n",
       "  'love',\n",
       "  'interest',\n",
       "  '?'],\n",
       " ['do', 'narcissists', 'feel', 'love', 'and', 'emotions', '?']]"
      ]
     },
     "execution_count": 19,
     "metadata": {},
     "output_type": "execute_result"
    }
   ],
   "source": [
    "train_x[2]"
   ]
  },
  {
   "cell_type": "code",
   "execution_count": null,
   "metadata": {
    "collapsed": true
   },
   "outputs": [],
   "source": []
  }
 ],
 "metadata": {
  "kernelspec": {
   "display_name": "Python 3",
   "language": "python",
   "name": "python3"
  },
  "language_info": {
   "codemirror_mode": {
    "name": "ipython",
    "version": 3
   },
   "file_extension": ".py",
   "mimetype": "text/x-python",
   "name": "python",
   "nbconvert_exporter": "python",
   "pygments_lexer": "ipython3",
   "version": "3.5.2"
  }
 },
 "nbformat": 4,
 "nbformat_minor": 0
}
