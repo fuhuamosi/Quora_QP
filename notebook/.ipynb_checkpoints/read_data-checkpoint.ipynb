{
 "cells": [
  {
   "cell_type": "code",
   "execution_count": 1,
   "metadata": {
    "collapsed": true,
    "deletable": true,
    "editable": true
   },
   "outputs": [],
   "source": [
    "import csv\n",
    "from collections import namedtuple\n",
    "import os\n",
    "import sys\n",
    "sys.path.append(os.path.join('..', '..', 'Quora_QP'))\n",
    "import numpy as np"
   ]
  },
  {
   "cell_type": "code",
   "execution_count": 2,
   "metadata": {
    "collapsed": true,
    "deletable": true,
    "editable": true
   },
   "outputs": [],
   "source": [
    "from preprocess.data_helpers import load_data, clean_str"
   ]
  },
  {
   "cell_type": "code",
   "execution_count": 3,
   "metadata": {
    "collapsed": true,
    "deletable": true,
    "editable": true
   },
   "outputs": [],
   "source": [
    "data_dir = os.path.join('..', 'dataset')"
   ]
  },
  {
   "cell_type": "code",
   "execution_count": 4,
   "metadata": {
    "collapsed": true,
    "deletable": true,
    "editable": true
   },
   "outputs": [],
   "source": [
    "train_path = os.path.join(data_dir, 'train.csv')\n",
    "train_x, train_y = load_data(train_path)"
   ]
  },
  {
   "cell_type": "code",
   "execution_count": 5,
   "metadata": {
    "collapsed": true,
    "deletable": true,
    "editable": true
   },
   "outputs": [],
   "source": [
    "test_path = os.path.join(data_dir, 'test.csv')\n",
    "test_x = load_data(test_path, need_label=False)"
   ]
  },
  {
   "cell_type": "code",
   "execution_count": 6,
   "metadata": {
    "collapsed": false,
    "deletable": true,
    "editable": true
   },
   "outputs": [
    {
     "data": {
      "text/plain": [
       "[['What is the step by step guide to invest in share market in india?',\n",
       "  'What is the step by step guide to invest in share market?'],\n",
       " ['What is the story of Kohinoor (Koh-i-Noor) Diamond?',\n",
       "  'What would happen if the Indian government stole the Kohinoor (Koh-i-Noor) diamond back?'],\n",
       " ['How can I increase the speed of my internet connection while using a VPN?',\n",
       "  'How can Internet speed be increased by hacking through DNS?'],\n",
       " ['Why am I mentally very lonely? How can I solve it?',\n",
       "  'Find the remainder when [math]23^{24}[/math] is divided by 24,23?'],\n",
       " ['Which one dissolve in water quikly sugar, salt, methane and carbon di oxide?',\n",
       "  'Which fish would survive in salt water?'],\n",
       " ['Astrology: I am a Capricorn Sun Cap moon and cap rising...what does that say about me?',\n",
       "  \"I'm a triple Capricorn (Sun, Moon and ascendant in Capricorn) What does this say about me?\"],\n",
       " ['Should I buy tiago?',\n",
       "  'What keeps childern active and far from phone and video games?'],\n",
       " ['How can I be a good geologist?',\n",
       "  'What should I do to be a great geologist?'],\n",
       " ['When do you use シ instead of し?', 'When do you use \"&\" instead of \"and\"?'],\n",
       " ['Motorola (company): Can I hack my Charter Motorolla DCX3400?',\n",
       "  'How do I hack Motorola DCX3400 for free internet?']]"
      ]
     },
     "execution_count": 6,
     "metadata": {},
     "output_type": "execute_result"
    }
   ],
   "source": [
    "train_x[:10]"
   ]
  },
  {
   "cell_type": "code",
   "execution_count": 7,
   "metadata": {
    "collapsed": false,
    "deletable": true,
    "editable": true
   },
   "outputs": [],
   "source": [
    "train_x = [[clean_str(x[0]), clean_str(x[1])] for x in train_x]"
   ]
  },
  {
   "cell_type": "code",
   "execution_count": 8,
   "metadata": {
    "collapsed": false,
    "deletable": true,
    "editable": true
   },
   "outputs": [],
   "source": [
    "test_x = [[clean_str(x[0]), clean_str(x[1])] for x in test_x]"
   ]
  },
  {
   "cell_type": "code",
   "execution_count": null,
   "metadata": {
    "collapsed": false,
    "deletable": true,
    "editable": true
   },
   "outputs": [],
   "source": [
    "lens = np.array([[len(x[0]), len(x[1])] for x in test_x])\n",
    "np.max(lens)"
   ]
  },
  {
   "cell_type": "code",
   "execution_count": 9,
   "metadata": {
    "collapsed": false,
    "deletable": true,
    "editable": true
   },
   "outputs": [
    {
     "data": {
      "text/plain": [
       "404290"
      ]
     },
     "execution_count": 9,
     "metadata": {},
     "output_type": "execute_result"
    }
   ],
   "source": [
    "len(train_x)"
   ]
  },
  {
   "cell_type": "code",
   "execution_count": 10,
   "metadata": {
    "collapsed": false,
    "deletable": true,
    "editable": true
   },
   "outputs": [
    {
     "data": {
      "text/plain": [
       "2345796"
      ]
     },
     "execution_count": 10,
     "metadata": {},
     "output_type": "execute_result"
    }
   ],
   "source": [
    "len(test_x)"
   ]
  },
  {
   "cell_type": "code",
   "execution_count": 11,
   "metadata": {
    "collapsed": false,
    "deletable": true,
    "editable": true
   },
   "outputs": [
    {
     "data": {
      "text/plain": [
       "[[['what',\n",
       "   'is',\n",
       "   'the',\n",
       "   'step',\n",
       "   'by',\n",
       "   'step',\n",
       "   'guide',\n",
       "   'to',\n",
       "   'invest',\n",
       "   'in',\n",
       "   'share',\n",
       "   'market',\n",
       "   'in',\n",
       "   'india'],\n",
       "  ['what',\n",
       "   'is',\n",
       "   'the',\n",
       "   'step',\n",
       "   'by',\n",
       "   'step',\n",
       "   'guide',\n",
       "   'to',\n",
       "   'invest',\n",
       "   'in',\n",
       "   'share',\n",
       "   'market']],\n",
       " [['what', 'is', 'the', 'story', 'of', 'kohinoor', 'koh-i-noor', 'diamond'],\n",
       "  ['what',\n",
       "   'would',\n",
       "   'happen',\n",
       "   'if',\n",
       "   'the',\n",
       "   'indian',\n",
       "   'government',\n",
       "   'stole',\n",
       "   'the',\n",
       "   'kohinoor',\n",
       "   'koh-i-noor',\n",
       "   'diamond',\n",
       "   'back']],\n",
       " [['how',\n",
       "   'can',\n",
       "   'i',\n",
       "   'increase',\n",
       "   'the',\n",
       "   'speed',\n",
       "   'of',\n",
       "   'my',\n",
       "   'internet',\n",
       "   'connection',\n",
       "   'while',\n",
       "   'using',\n",
       "   'a',\n",
       "   'vpn'],\n",
       "  ['how',\n",
       "   'can',\n",
       "   'internet',\n",
       "   'speed',\n",
       "   'be',\n",
       "   'increased',\n",
       "   'by',\n",
       "   'hacking',\n",
       "   'through',\n",
       "   'dns']],\n",
       " [['why',\n",
       "   'am',\n",
       "   'i',\n",
       "   'mentally',\n",
       "   'very',\n",
       "   'lonely',\n",
       "   'how',\n",
       "   'can',\n",
       "   'i',\n",
       "   'solve',\n",
       "   'it'],\n",
       "  ['find',\n",
       "   'the',\n",
       "   'remainder',\n",
       "   'when',\n",
       "   'math',\n",
       "   '23',\n",
       "   '24',\n",
       "   'math',\n",
       "   'is',\n",
       "   'divided',\n",
       "   'by',\n",
       "   '24',\n",
       "   '23']],\n",
       " [['which',\n",
       "   'one',\n",
       "   'dissolve',\n",
       "   'in',\n",
       "   'water',\n",
       "   'quikly',\n",
       "   'sugar',\n",
       "   'salt',\n",
       "   'methane',\n",
       "   'and',\n",
       "   'carbon',\n",
       "   'di',\n",
       "   'oxide'],\n",
       "  ['which', 'fish', 'would', 'survive', 'in', 'salt', 'water']],\n",
       " [['astrology',\n",
       "   'i',\n",
       "   'am',\n",
       "   'a',\n",
       "   'capricorn',\n",
       "   'sun',\n",
       "   'cap',\n",
       "   'moon',\n",
       "   'and',\n",
       "   'cap',\n",
       "   'rising',\n",
       "   'what',\n",
       "   'does',\n",
       "   'that',\n",
       "   'say',\n",
       "   'about',\n",
       "   'me'],\n",
       "  ['i',\n",
       "   'am',\n",
       "   'a',\n",
       "   'triple',\n",
       "   'capricorn',\n",
       "   'sun',\n",
       "   'moon',\n",
       "   'and',\n",
       "   'ascendant',\n",
       "   'in',\n",
       "   'capricorn',\n",
       "   'what',\n",
       "   'does',\n",
       "   'this',\n",
       "   'say',\n",
       "   'about',\n",
       "   'me']],\n",
       " [['should', 'i', 'buy', 'tiago'],\n",
       "  ['what',\n",
       "   'keeps',\n",
       "   'childern',\n",
       "   'active',\n",
       "   'and',\n",
       "   'far',\n",
       "   'from',\n",
       "   'phone',\n",
       "   'and',\n",
       "   'video',\n",
       "   'games']],\n",
       " [['how', 'can', 'i', 'be', 'a', 'good', 'geologist'],\n",
       "  ['what', 'should', 'i', 'do', 'to', 'be', 'a', 'great', 'geologist']],\n",
       " [['when', 'do', 'you', 'use', 'instead', 'of'],\n",
       "  ['when', 'do', 'you', 'use', 'instead', 'of', 'and']],\n",
       " [['motorola',\n",
       "   'company',\n",
       "   'can',\n",
       "   'i',\n",
       "   'hack',\n",
       "   'my',\n",
       "   'charter',\n",
       "   'motorolla',\n",
       "   'dcx3400'],\n",
       "  ['how',\n",
       "   'do',\n",
       "   'i',\n",
       "   'hack',\n",
       "   'motorola',\n",
       "   'dcx3400',\n",
       "   'for',\n",
       "   'free',\n",
       "   'internet']]]"
      ]
     },
     "execution_count": 11,
     "metadata": {},
     "output_type": "execute_result"
    }
   ],
   "source": [
    "train_x[:10]"
   ]
  },
  {
   "cell_type": "code",
   "execution_count": 12,
   "metadata": {
    "collapsed": true,
    "deletable": true,
    "editable": true
   },
   "outputs": [],
   "source": [
    "from preprocess.file_utils import serialize\n",
    "from sklearn.model_selection import train_test_split"
   ]
  },
  {
   "cell_type": "code",
   "execution_count": 13,
   "metadata": {
    "collapsed": true,
    "deletable": true,
    "editable": true
   },
   "outputs": [],
   "source": [
    "x_train, x_dev, y_train, y_dev = train_test_split(train_x, train_y, test_size=0.1, random_state=3688)"
   ]
  },
  {
   "cell_type": "code",
   "execution_count": 14,
   "metadata": {
    "collapsed": false,
    "deletable": true,
    "editable": true
   },
   "outputs": [
    {
     "data": {
      "text/plain": [
       "363861"
      ]
     },
     "execution_count": 14,
     "metadata": {},
     "output_type": "execute_result"
    }
   ],
   "source": [
    "len(y_train)"
   ]
  },
  {
   "cell_type": "code",
   "execution_count": 15,
   "metadata": {
    "collapsed": false,
    "deletable": true,
    "editable": true
   },
   "outputs": [
    {
     "name": "stdout",
     "output_type": "stream",
     "text": [
      "saving 2 lines to ../dataset/train.bin\n"
     ]
    }
   ],
   "source": [
    "serialize(data=[x_train, y_train], file_path=os.path.join(data_dir, 'train.bin'))"
   ]
  },
  {
   "cell_type": "code",
   "execution_count": 16,
   "metadata": {
    "collapsed": false,
    "deletable": true,
    "editable": true
   },
   "outputs": [
    {
     "name": "stdout",
     "output_type": "stream",
     "text": [
      "saving 2 lines to ../dataset/dev.bin\n"
     ]
    }
   ],
   "source": [
    "serialize(data=[x_dev, y_dev], file_path=os.path.join(data_dir, 'dev.bin'))"
   ]
  },
  {
   "cell_type": "code",
   "execution_count": 17,
   "metadata": {
    "collapsed": false,
    "deletable": true,
    "editable": true
   },
   "outputs": [
    {
     "name": "stdout",
     "output_type": "stream",
     "text": [
      "saving 2345796 lines to ../dataset/test.bin\n"
     ]
    }
   ],
   "source": [
    "serialize(data=test_x, file_path=os.path.join(data_dir, 'test.bin'))"
   ]
  },
  {
   "cell_type": "code",
   "execution_count": null,
   "metadata": {
    "collapsed": true,
    "deletable": true,
    "editable": true
   },
   "outputs": [],
   "source": []
  }
 ],
 "metadata": {
  "kernelspec": {
   "display_name": "Python 3",
   "language": "python",
   "name": "python3"
  },
  "language_info": {
   "codemirror_mode": {
    "name": "ipython",
    "version": 3
   },
   "file_extension": ".py",
   "mimetype": "text/x-python",
   "name": "python",
   "nbconvert_exporter": "python",
   "pygments_lexer": "ipython3",
   "version": "3.5.2"
  }
 },
 "nbformat": 4,
 "nbformat_minor": 0
}
