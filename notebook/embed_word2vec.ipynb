{
 "cells": [
  {
   "cell_type": "code",
   "execution_count": 1,
   "metadata": {
    "collapsed": true
   },
   "outputs": [],
   "source": [
    "import os\n",
    "import sys\n",
    "sys.path.append(os.path.join('..', '..', 'Quora_QP'))\n",
    "import numpy as np\n",
    "from preprocess.file_utils import deserialize, serialize\n",
    "from itertools import chain\n",
    "from preprocess.data_helpers import vectorize_sent"
   ]
  },
  {
   "cell_type": "code",
   "execution_count": 6,
   "metadata": {
    "collapsed": true
   },
   "outputs": [],
   "source": [
    "from gensim.models import KeyedVectors"
   ]
  },
  {
   "cell_type": "code",
   "execution_count": 2,
   "metadata": {},
   "outputs": [
    {
     "name": "stdout",
     "output_type": "stream",
     "text": [
      "loading 2 lines from ../dataset/train.bin\n",
      "loading 2 lines from ../dataset/dev.bin\n",
      "loading 2345796 lines from ../dataset/test.bin\n"
     ]
    }
   ],
   "source": [
    "data_dir = os.path.join('..', 'dataset')\n",
    "train_x, train_y = deserialize(os.path.join(data_dir, 'train.bin'))\n",
    "dev_x, dev_y = deserialize(os.path.join(data_dir, 'dev.bin'))\n",
    "test_x = deserialize(os.path.join(data_dir, 'test.bin'))"
   ]
  },
  {
   "cell_type": "code",
   "execution_count": 3,
   "metadata": {
    "collapsed": true
   },
   "outputs": [],
   "source": [
    "word_train_set = set(chain.from_iterable(chain.from_iterable(train_x)))\n",
    "word_dev_set = set(chain.from_iterable(chain.from_iterable(dev_x)))\n",
    "word_test_set = set(chain.from_iterable(chain.from_iterable(test_x)))\n",
    "word_set = word_train_set | word_dev_set | word_test_set"
   ]
  },
  {
   "cell_type": "code",
   "execution_count": 4,
   "metadata": {},
   "outputs": [
    {
     "data": {
      "text/plain": [
       "141870"
      ]
     },
     "execution_count": 4,
     "metadata": {},
     "output_type": "execute_result"
    }
   ],
   "source": [
    "len(word_set)"
   ]
  },
  {
   "cell_type": "code",
   "execution_count": 8,
   "metadata": {},
   "outputs": [],
   "source": [
    "model = KeyedVectors.load_word2vec_format('../dataset/GoogleNews-vectors-negative300.bin', binary=True)"
   ]
  },
  {
   "cell_type": "code",
   "execution_count": 19,
   "metadata": {},
   "outputs": [],
   "source": [
    "word_embed_dict = {}\n",
    "for word in word_set:\n",
    "    if word in model.vocab:\n",
    "        word_embed_dict[word] = model[word].tolist()"
   ]
  },
  {
   "cell_type": "code",
   "execution_count": 20,
   "metadata": {},
   "outputs": [
    {
     "data": {
      "text/plain": [
       "58277"
      ]
     },
     "execution_count": 20,
     "metadata": {},
     "output_type": "execute_result"
    }
   ],
   "source": [
    "len(word_embed_dict)"
   ]
  },
  {
   "cell_type": "code",
   "execution_count": 24,
   "metadata": {
    "collapsed": true
   },
   "outputs": [],
   "source": [
    "_PAD = '_PAD'\n",
    "_NULL = '_NULL'\n",
    "EMBEDDING_SIZE = 300\n",
    "OOV_EMBED_SIZE = 5000\n",
    "\n",
    "\n",
    "index2word = [_PAD, _NULL] + list(word_embed_dict.keys())\n",
    "word2index = dict([(y, x) for (x, y) in enumerate(index2word)])\n",
    "word_embeddings = [[0.0] * EMBEDDING_SIZE, [0.0] * EMBEDDING_SIZE]\n",
    "for _, word in enumerate(index2word[2:]):\n",
    "    word_embeddings.append(word_embed_dict[word])\n",
    "for _ in range(OOV_EMBED_SIZE):\n",
    "    word_embeddings.append(np.random.uniform(low=-0.1, high=0.1, size=[EMBEDDING_SIZE]).tolist())"
   ]
  },
  {
   "cell_type": "code",
   "execution_count": 25,
   "metadata": {},
   "outputs": [
    {
     "name": "stdout",
     "output_type": "stream",
     "text": [
      "saving 58279 lines to ../dataset/word2index_word2vec.bin\n",
      "saving 63279 lines to ../dataset/word_embeddings_word2vec.bin\n"
     ]
    }
   ],
   "source": [
    "serialize(word2index, os.path.join(data_dir, 'word2index_word2vec.bin'))\n",
    "serialize(word_embeddings, os.path.join(data_dir, 'word_embeddings_word2vec.bin'))"
   ]
  },
  {
   "cell_type": "code",
   "execution_count": null,
   "metadata": {
    "collapsed": true
   },
   "outputs": [],
   "source": [
    ""
   ]
  }
 ],
 "metadata": {
  "kernelspec": {
   "display_name": "Python 3",
   "language": "python",
   "name": "python3"
  },
  "language_info": {
   "codemirror_mode": {
    "name": "ipython",
    "version": 3.0
   },
   "file_extension": ".py",
   "mimetype": "text/x-python",
   "name": "python",
   "nbconvert_exporter": "python",
   "pygments_lexer": "ipython3",
   "version": "3.5.2"
  }
 },
 "nbformat": 4,
 "nbformat_minor": 0
}