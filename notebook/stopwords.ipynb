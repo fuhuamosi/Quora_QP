{
 "cells": [
  {
   "cell_type": "code",
   "execution_count": 1,
   "metadata": {
    "collapsed": true
   },
   "outputs": [],
   "source": [
    "import os\n",
    "import sys\n",
    "sys.path.append(os.path.join('..', '..', 'Quora_QP'))\n",
    "import numpy as np\n",
    "from preprocess.file_utils import deserialize, serialize\n",
    "from itertools import chain\n",
    "from preprocess.data_helpers import vectorize_sent"
   ]
  },
  {
   "cell_type": "code",
   "execution_count": 2,
   "metadata": {},
   "outputs": [
    {
     "name": "stdout",
     "output_type": "stream",
     "text": [
      "loading 58279 lines from ../dataset/word2index_word2vec.bin\n"
     ]
    }
   ],
   "source": [
    "word2inx = deserialize(os.path.join('..', 'dataset', 'word2index_word2vec.bin'))"
   ]
  },
  {
   "cell_type": "code",
   "execution_count": 8,
   "metadata": {
    "collapsed": true
   },
   "outputs": [],
   "source": [
    "from nltk.corpus import stopwords\n",
    "stops = set(stopwords.words('english'))"
   ]
  },
  {
   "cell_type": "code",
   "execution_count": 9,
   "metadata": {},
   "outputs": [
    {
     "data": {
      "text/plain": [
       "{'a',\n",
       " 'about',\n",
       " 'above',\n",
       " 'after',\n",
       " 'again',\n",
       " 'against',\n",
       " 'ain',\n",
       " 'all',\n",
       " 'am',\n",
       " 'an',\n",
       " 'and',\n",
       " 'any',\n",
       " 'are',\n",
       " 'aren',\n",
       " 'as',\n",
       " 'at',\n",
       " 'be',\n",
       " 'because',\n",
       " 'been',\n",
       " 'before',\n",
       " 'being',\n",
       " 'below',\n",
       " 'between',\n",
       " 'both',\n",
       " 'but',\n",
       " 'by',\n",
       " 'can',\n",
       " 'couldn',\n",
       " 'd',\n",
       " 'did',\n",
       " 'didn',\n",
       " 'do',\n",
       " 'does',\n",
       " 'doesn',\n",
       " 'doing',\n",
       " 'don',\n",
       " 'down',\n",
       " 'during',\n",
       " 'each',\n",
       " 'few',\n",
       " 'for',\n",
       " 'from',\n",
       " 'further',\n",
       " 'had',\n",
       " 'hadn',\n",
       " 'has',\n",
       " 'hasn',\n",
       " 'have',\n",
       " 'haven',\n",
       " 'having',\n",
       " 'he',\n",
       " 'her',\n",
       " 'here',\n",
       " 'hers',\n",
       " 'herself',\n",
       " 'him',\n",
       " 'himself',\n",
       " 'his',\n",
       " 'how',\n",
       " 'i',\n",
       " 'if',\n",
       " 'in',\n",
       " 'into',\n",
       " 'is',\n",
       " 'isn',\n",
       " 'it',\n",
       " 'its',\n",
       " 'itself',\n",
       " 'just',\n",
       " 'll',\n",
       " 'm',\n",
       " 'ma',\n",
       " 'me',\n",
       " 'mightn',\n",
       " 'more',\n",
       " 'most',\n",
       " 'mustn',\n",
       " 'my',\n",
       " 'myself',\n",
       " 'needn',\n",
       " 'no',\n",
       " 'nor',\n",
       " 'not',\n",
       " 'now',\n",
       " 'o',\n",
       " 'of',\n",
       " 'off',\n",
       " 'on',\n",
       " 'once',\n",
       " 'only',\n",
       " 'or',\n",
       " 'other',\n",
       " 'our',\n",
       " 'ours',\n",
       " 'ourselves',\n",
       " 'out',\n",
       " 'over',\n",
       " 'own',\n",
       " 're',\n",
       " 's',\n",
       " 'same',\n",
       " 'shan',\n",
       " 'she',\n",
       " 'should',\n",
       " 'shouldn',\n",
       " 'so',\n",
       " 'some',\n",
       " 'such',\n",
       " 't',\n",
       " 'than',\n",
       " 'that',\n",
       " 'the',\n",
       " 'their',\n",
       " 'theirs',\n",
       " 'them',\n",
       " 'themselves',\n",
       " 'then',\n",
       " 'there',\n",
       " 'these',\n",
       " 'they',\n",
       " 'this',\n",
       " 'those',\n",
       " 'through',\n",
       " 'to',\n",
       " 'too',\n",
       " 'under',\n",
       " 'until',\n",
       " 'up',\n",
       " 've',\n",
       " 'very',\n",
       " 'was',\n",
       " 'wasn',\n",
       " 'we',\n",
       " 'were',\n",
       " 'weren',\n",
       " 'what',\n",
       " 'when',\n",
       " 'where',\n",
       " 'which',\n",
       " 'while',\n",
       " 'who',\n",
       " 'whom',\n",
       " 'why',\n",
       " 'will',\n",
       " 'with',\n",
       " 'won',\n",
       " 'wouldn',\n",
       " 'y',\n",
       " 'you',\n",
       " 'your',\n",
       " 'yours',\n",
       " 'yourself',\n",
       " 'yourselves'}"
      ]
     },
     "execution_count": 9,
     "metadata": {},
     "output_type": "execute_result"
    }
   ],
   "source": [
    "stops"
   ]
  },
  {
   "cell_type": "code",
   "execution_count": 12,
   "metadata": {},
   "outputs": [
    {
     "name": "stdout",
     "output_type": "stream",
     "text": [
      "of\n",
      "mightn\n",
      "and\n",
      "mustn\n",
      "to\n",
      "a\n"
     ]
    }
   ],
   "source": [
    "cnt = 0\n",
    "for stop in stops:\n",
    "    if stop not in word2inx:\n",
    "        print(stop)"
   ]
  },
  {
   "cell_type": "code",
   "execution_count": 17,
   "metadata": {},
   "outputs": [
    {
     "data": {
      "text/plain": [
       "33325"
      ]
     },
     "execution_count": 17,
     "metadata": {},
     "output_type": "execute_result"
    }
   ],
   "source": [
    "word2inx['because']"
   ]
  },
  {
   "cell_type": "code",
   "execution_count": 18,
   "metadata": {
    "collapsed": true
   },
   "outputs": [],
   "source": [
    "stops_id = [word2inx[stop] if stop in word2inx else -1 for stop in stops]"
   ]
  },
  {
   "cell_type": "code",
   "execution_count": 19,
   "metadata": {},
   "outputs": [
    {
     "data": {
      "text/plain": [
       "[959,\n",
       " 37260,\n",
       " 45017,\n",
       " 53710,\n",
       " 2984,\n",
       " 44076,\n",
       " 18368,\n",
       " 26730,\n",
       " 56424,\n",
       " 50645,\n",
       " 19328,\n",
       " 10168,\n",
       " -1,\n",
       " 19774,\n",
       " -1,\n",
       " 17093,\n",
       " 54446,\n",
       " 50719,\n",
       " 5711,\n",
       " 24525,\n",
       " 7657,\n",
       " 51299,\n",
       " 17754,\n",
       " 7800,\n",
       " 52753,\n",
       " 27351,\n",
       " 47322,\n",
       " 56599,\n",
       " 49195,\n",
       " 18190,\n",
       " 6344,\n",
       " 45021,\n",
       " 41485,\n",
       " 45861,\n",
       " 24652,\n",
       " 41367,\n",
       " 28477,\n",
       " 50815,\n",
       " 14989,\n",
       " 20031,\n",
       " 45256,\n",
       " 53848,\n",
       " 45200,\n",
       " 13859,\n",
       " 46885,\n",
       " 4411,\n",
       " 402,\n",
       " 9475,\n",
       " 33016,\n",
       " 28067,\n",
       " 44662,\n",
       " 12847,\n",
       " 9438,\n",
       " 29268,\n",
       " 40787,\n",
       " 45893,\n",
       " 12606,\n",
       " 44384,\n",
       " 27338,\n",
       " 34368,\n",
       " 31547,\n",
       " 43144,\n",
       " 20441,\n",
       " 39724,\n",
       " 14215,\n",
       " 25340,\n",
       " 23038,\n",
       " 12586,\n",
       " -1,\n",
       " 48406,\n",
       " 20819,\n",
       " 35219,\n",
       " 23644,\n",
       " 22859,\n",
       " 49080,\n",
       " 27173,\n",
       " 37532,\n",
       " 42108,\n",
       " 27553,\n",
       " -1,\n",
       " 17061,\n",
       " 46864,\n",
       " 38872,\n",
       " 9592,\n",
       " 40193,\n",
       " 31733,\n",
       " 11970,\n",
       " 19719,\n",
       " 11517,\n",
       " 14514,\n",
       " 4847,\n",
       " 47370,\n",
       " 38780,\n",
       " 41286,\n",
       " 2883,\n",
       " 41982,\n",
       " 56176,\n",
       " 21724,\n",
       " 49947,\n",
       " 43315,\n",
       " 26890,\n",
       " 46195,\n",
       " 33325,\n",
       " 2646,\n",
       " 21123,\n",
       " 17571,\n",
       " 12438,\n",
       " 5525,\n",
       " 18089,\n",
       " 26649,\n",
       " 37214,\n",
       " 56279,\n",
       " 31062,\n",
       " 38032,\n",
       " 28036,\n",
       " 13161,\n",
       " 24922,\n",
       " 10337,\n",
       " 58100,\n",
       " 23086,\n",
       " 38538,\n",
       " 42114,\n",
       " 20854,\n",
       " 57401,\n",
       " 25013,\n",
       " 13713,\n",
       " 50939,\n",
       " 5013,\n",
       " 27025,\n",
       " 41623,\n",
       " 10141,\n",
       " 27960,\n",
       " 17598,\n",
       " 40467,\n",
       " 49126,\n",
       " 42362,\n",
       " 7787,\n",
       " 53446,\n",
       " 21587,\n",
       " 14631,\n",
       " -1,\n",
       " 47256,\n",
       " 41602,\n",
       " 21863,\n",
       " 2091,\n",
       " 40747,\n",
       " 1569,\n",
       " 3512,\n",
       " 27966,\n",
       " -1,\n",
       " 46677,\n",
       " 39294,\n",
       " 54178]"
      ]
     },
     "execution_count": 19,
     "metadata": {},
     "output_type": "execute_result"
    }
   ],
   "source": [
    "stops_id"
   ]
  },
  {
   "cell_type": "code",
   "execution_count": 20,
   "metadata": {},
   "outputs": [
    {
     "data": {
      "text/plain": [
       "True"
      ]
     },
     "execution_count": 20,
     "metadata": {},
     "output_type": "execute_result"
    }
   ],
   "source": [
    "49195 in stops_id"
   ]
  },
  {
   "cell_type": "code",
   "execution_count": null,
   "metadata": {
    "collapsed": true
   },
   "outputs": [],
   "source": []
  }
 ],
 "metadata": {
  "kernelspec": {
   "display_name": "Python 3",
   "language": "python",
   "name": "python3"
  },
  "language_info": {
   "codemirror_mode": {
    "name": "ipython",
    "version": 3
   },
   "file_extension": ".py",
   "mimetype": "text/x-python",
   "name": "python",
   "nbconvert_exporter": "python",
   "pygments_lexer": "ipython3",
   "version": "3.5.2"
  }
 },
 "nbformat": 4,
 "nbformat_minor": 2
}
